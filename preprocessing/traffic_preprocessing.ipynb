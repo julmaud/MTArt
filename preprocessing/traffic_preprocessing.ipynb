{
 "cells": [
  {
   "cell_type": "markdown",
   "metadata": {},
   "source": [
    "# Extracting Turnstile data"
   ]
  },
  {
   "cell_type": "markdown",
   "metadata": {},
   "source": [
    "Source: https://henri.io/posts/new-york-subway-traffic-data-part-1.html"
   ]
  },
  {
   "cell_type": "code",
   "execution_count": 70,
   "metadata": {
    "collapsed": true
   },
   "outputs": [],
   "source": [
    "import json\n",
    "import pandas as pd"
   ]
  },
  {
   "cell_type": "code",
   "execution_count": 10,
   "metadata": {
    "collapsed": true
   },
   "outputs": [],
   "source": [
    "import datetime\n",
    "\n",
    "# Format the date like the file name\n",
    "def date_format(date):\n",
    "    return date.strftime(\"%y%m%d\")\n",
    "\n",
    "#download a couple weeks of data\n",
    "start_date = datetime.date(2017,4,1)\n",
    "end_date = datetime.date.today()\n",
    "link_prefix = \"http://web.mta.info/developers/data/nyct/turnstile/turnstile_\"\n",
    "file_addresses = []\n",
    "\n",
    "this_date = start_date\n",
    "while this_date <= end_date:\n",
    "    file_addresses.append(link_prefix + date_format(this_date) + \".txt\")\n",
    "    this_date += datetime.timedelta(days=7)\n"
   ]
  },
  {
   "cell_type": "code",
   "execution_count": 13,
   "metadata": {
    "collapsed": false
   },
   "outputs": [
    {
     "name": "stdout",
     "output_type": "stream",
     "text": [
      "--2017-04-19 00:41:02--  http://web.mta.info/developers/data/nyct/turnstile/turnstile_170401.txt\n",
      "Resolving web.mta.info... 38.69.238.11, 38.69.238.19\n",
      "Connecting to web.mta.info|38.69.238.11|:80... connected.\n",
      "HTTP request sent, awaiting response... 200 OK\n",
      "Length: unspecified [text/plain]\n",
      "Saving to: ‘turnstile_170401.txt’\n",
      "\n",
      "turnstile_170401.tx     [                <=> ]  24.78M  1.13MB/s    in 40s     \n",
      "\n",
      "2017-04-19 00:41:45 (632 KB/s) - ‘turnstile_170401.txt’ saved [25986339]\n",
      "\n",
      "--2017-04-19 00:41:46--  http://web.mta.info/developers/data/nyct/turnstile/turnstile_170408.txt\n",
      "Resolving web.mta.info... 23.219.92.24, 23.219.92.42\n",
      "Connecting to web.mta.info|23.219.92.24|:80... connected.\n",
      "HTTP request sent, awaiting response... 200 OK\n",
      "Length: unspecified [text/plain]\n",
      "Saving to: ‘turnstile_170408.txt’\n",
      "\n",
      "turnstile_170408.tx     [       <=>          ]  24.69M  71.1KB/s    in 52s     \n",
      "\n",
      "2017-04-19 00:42:38 (486 KB/s) - ‘turnstile_170408.txt’ saved [25891626]\n",
      "\n",
      "--2017-04-19 00:42:39--  http://web.mta.info/developers/data/nyct/turnstile/turnstile_170415.txt\n",
      "Resolving web.mta.info... 23.219.92.42, 23.219.92.24\n",
      "Connecting to web.mta.info|23.219.92.42|:80... connected.\n",
      "HTTP request sent, awaiting response... 200 OK\n",
      "Length: unspecified [text/plain]\n",
      "Saving to: ‘turnstile_170415.txt’\n",
      "\n",
      "turnstile_170415.tx     [<=>                 ]  25.14M   450KB/s    in 75s     \n",
      "\n",
      "2017-04-19 00:44:02 (341 KB/s) - ‘turnstile_170415.txt’ saved [26356938]\n",
      "\n"
     ]
    }
   ],
   "source": [
    "for f in file_addresses:\n",
    "    !wget {f}"
   ]
  },
  {
   "cell_type": "code",
   "execution_count": 14,
   "metadata": {
    "collapsed": true
   },
   "outputs": [],
   "source": [
    "import csv\n",
    "\n",
    "# convert the date and time into a datetime object\n",
    "def parse_datetime(str_date, str_time):\n",
    "    date_int_list = map(int, str_date.split(\"/\"))\n",
    "    time_int_list = map(int, str_time.split(\":\"))\n",
    "    return datetime.datetime(date_int_list[2], date_int_list[0], date_int_list[1], *time_int_list)\n",
    "\n",
    "# creates a dictionary with the turnstile identification (i.e. the first 4 columns of the data) as keys, containing the date, entries and exits as values\n",
    "def turnstiles_to_date_and_cumulative(input_file_name):\n",
    "    input_file = open(input_file_name, \"r\")\n",
    "    csv_reader = csv.reader(input_file)\n",
    "    output_dic = {}\n",
    "    next(csv_reader) # skip header\n",
    "    for row in csv_reader:\n",
    "        turnstile = tuple(row[:5])\n",
    "        try:\n",
    "            date_entries_exits = [parse_datetime(row[6], row[7]), int(row[9]), int(row[10])]\n",
    "        except:\n",
    "            print row\n",
    "            print \"Incomplete row. Skipping\"\n",
    "            continue\n",
    "        if turnstile in output_dic:\n",
    "            output_dic[turnstile].append(date_entries_exits)\n",
    "        else:\n",
    "            output_dic[turnstile] = [date_entries_exits]\n",
    "    input_file.close()\n",
    "    return output_dic\n",
    "\n",
    "# combines dictionaries with lists as values\n",
    "def combine_dics(dic_list):\n",
    "    dic_combined = {}\n",
    "    for dic in dic_list:\n",
    "        for key, val in dic.iteritems():\n",
    "            if not key in dic_combined:\n",
    "                dic_combined[key] = val\n",
    "            else:\n",
    "                dic_combined[key] = dic_combined[key] + val\n",
    "    return dic_combined"
   ]
  },
  {
   "cell_type": "code",
   "execution_count": 16,
   "metadata": {
    "collapsed": false
   },
   "outputs": [],
   "source": [
    "def turnstiles_to_date_and_traffic(turnstiles_to_date_and_cumulative):\n",
    "    turnstiles_to_date_and_traffic_dic = {}\n",
    "    for turnstile in turnstiles_to_date_and_cumulative.keys():\n",
    "        previous_datetime = turnstiles_to_date_and_cumulative[turnstile][0][0]\n",
    "        previous_date_cumulative_entries = turnstiles_to_date_and_cumulative[turnstile][0][1]\n",
    "        previous_date_cumulative_exits = turnstiles_to_date_and_cumulative[turnstile][0][2]\n",
    "\n",
    "        for datetime,cumulative_entries,cumulative_exits in turnstiles_to_date_and_cumulative[turnstile][1:]: \n",
    "            \n",
    "            time_diff = datetime - previous_datetime\n",
    "\n",
    "            if time_diff.total_seconds() == 0:\n",
    "                #print \"Two counts at the same time ... skipping.\"\n",
    "                continue\n",
    "            \n",
    "            if cumulative_entries == 0 or cumulative_exits == 0:\n",
    "                #print \"Cumulative count reset ... skipping\"\n",
    "                continue\n",
    "                \n",
    "            entries = cumulative_entries - previous_date_cumulative_entries\n",
    "            exits = cumulative_exits - previous_date_cumulative_exits\n",
    "            \n",
    "            if entries < -1000 or exits < -1000: # probably a reset\n",
    "                continue\n",
    "            else: #just counting negatively\n",
    "                entries = abs(entries)\n",
    "                exits = abs(exits)\n",
    "            \n",
    "            if turnstile in turnstiles_to_date_and_traffic_dic:\n",
    "                turnstiles_to_date_and_traffic_dic[turnstile].append([previous_datetime, entries, exits, time_diff])\n",
    "            else:\n",
    "                turnstiles_to_date_and_traffic_dic[turnstile] = [[previous_datetime, entries, exits, time_diff]]\n",
    "            \n",
    "            previous_datetime = datetime\n",
    "            previous_date_cumulative_entries = cumulative_entries\n",
    "            previous_date_cumulative_exits = cumulative_exits\n",
    "\n",
    "    return turnstiles_to_date_and_traffic_dic"
   ]
  },
  {
   "cell_type": "code",
   "execution_count": 17,
   "metadata": {
    "collapsed": true
   },
   "outputs": [],
   "source": [
    "turnstiles_to_date_and_cumulative_dic = turnstiles_to_date_and_cumulative('turnstile_170415.txt')\n",
    "turnstiles_to_date_and_traffic_dic = turnstiles_to_date_and_traffic(turnstiles_to_date_and_cumulative_dic)"
   ]
  },
  {
   "cell_type": "code",
   "execution_count": 19,
   "metadata": {
    "collapsed": true
   },
   "outputs": [],
   "source": [
    "def turnstiles_to_traffic_by_interval(turnstiles_to_date_and_traffic_dic, time_interval = datetime.timedelta(hours=1)):\n",
    "    assert time_interval >= datetime.timedelta(hours=1), \"Time interval should be at least 1 hour\"\n",
    "    turnstiles_to_traffic_by_interval = {}\n",
    "\n",
    "    for turnstile in turnstiles_to_date_and_traffic_dic:\n",
    "        # First get hourly traffic data\n",
    "        date_time_hour_to_traffic = {}\n",
    "        hourly_entries, hourly_exits = 0, 0 # some intervals are too short, so they should be combined\n",
    "        total_duration = datetime.timedelta(0)\n",
    "        date_and_hour = False\n",
    "        for date_time, entries, exits, duration in turnstiles_to_date_and_traffic_dic[turnstile]:\n",
    "            total_duration += duration\n",
    "            hourly_entries += entries\n",
    "            hourly_exits += exits\n",
    "\n",
    "            if total_duration < datetime.timedelta(hours=1): # interval is too short, combine with next interval\n",
    "                continue\n",
    "            if not date_and_hour: # when combining intervals, save the start\n",
    "                # datetime stripped of minutes and seconds data\n",
    "                date_and_hour = datetime.datetime(date_time.year, date_time.month, date_time.day, date_time.hour)\n",
    "\n",
    "            duration_in_hours = total_duration.total_seconds()/3600\n",
    "            hourly_entries /= duration_in_hours # if the interval is long enough, divide by duration\n",
    "            hourly_exits /= duration_in_hours\n",
    "            \n",
    "            # Discard hourly traffic values that are too large\n",
    "            if hourly_entries > 2000 or hourly_exits > 2000: # something went wrong\n",
    "                #print turnstile, date_time, hourly_entries, hourly_exits,duration_in_hours\n",
    "                #print total_duration, date_and_hour\n",
    "                hourly_entries, hourly_exits = 0, 0\n",
    "\n",
    "            # add the hourly value to the hours corresponding to the duration\n",
    "            time_diff = datetime.timedelta(hours=0)\n",
    "            while time_diff < datetime.timedelta(hours=int(duration_in_hours)):\n",
    "                if not date_and_hour + time_diff in date_time_hour_to_traffic:\n",
    "                    date_time_hour_to_traffic[date_and_hour + time_diff] = 0, 0\n",
    "                entries, exits = date_time_hour_to_traffic[date_and_hour + time_diff]\n",
    "\n",
    "                date_time_hour_to_traffic[date_and_hour + time_diff] = (entries + hourly_entries, exits + hourly_exits)\n",
    "                time_diff += datetime.timedelta(hours=1)\n",
    "\n",
    "            hourly_entries, hourly_exits = 0, 0\n",
    "            total_duration = datetime.timedelta(0)\n",
    "            date_and_hour = False\n",
    "\n",
    "        # Now convert the dictionary to a list, and sort it by datetime\n",
    "        date_entries_exits_list = []\n",
    "        for date_time, entry_exit in date_time_hour_to_traffic.iteritems():\n",
    "            date_entries_exits_list.append([date_time, entry_exit[0], entry_exit[1]])\n",
    "        date_entries_exits_list = sorted(date_entries_exits_list)\n",
    "\n",
    "        if datetime.timedelta(hours=1) == time_interval: # In this case, we already have hourly values so no need to combine\n",
    "            turnstiles_to_traffic_by_interval[turnstile] = date_entries_exits_list\n",
    "            continue\n",
    "        \n",
    "        # Combine consecutive hours to form required time interval\n",
    "        start_date = date_entries_exits_list[0][0]\n",
    "        date_entries_exits_list_by_interval = []\n",
    "        current_date = datetime.datetime(start_date.year, start_date.month, start_date.day) # start at the start of the first day\n",
    "        current_entries, current_exits = 0,0\n",
    "        for date_time, entry, exit in date_entries_exits_list:\n",
    "            while date_time >= current_date + time_interval:\n",
    "                date_entries_exits_list_by_interval.append([current_date, current_entries, current_exits])\n",
    "                current_entries, current_exits = 0,0\n",
    "                current_date += time_interval\n",
    "            current_entries += entry\n",
    "            current_exits += exit\n",
    "\n",
    "        turnstiles_to_traffic_by_interval[turnstile] = date_entries_exits_list_by_interval\n",
    "\n",
    "    return turnstiles_to_traffic_by_interval"
   ]
  },
  {
   "cell_type": "code",
   "execution_count": 20,
   "metadata": {
    "collapsed": true
   },
   "outputs": [],
   "source": [
    "turnstiles_to_traffic_hourly_dic = turnstiles_to_traffic_by_interval(turnstiles_to_date_and_traffic_dic, datetime.timedelta(hours=1))"
   ]
  },
  {
   "cell_type": "code",
   "execution_count": 22,
   "metadata": {
    "collapsed": true
   },
   "outputs": [],
   "source": [
    "def turnstiles_to_traffic_by_interval(turnstiles_to_date_and_traffic_dic, time_interval = datetime.timedelta(hours=1)):\n",
    "    assert time_interval >= datetime.timedelta(hours=1), \"Time interval should be at least 1 hour\"\n",
    "    turnstiles_to_traffic_by_interval = {}\n",
    "\n",
    "    for turnstile in turnstiles_to_date_and_traffic_dic:\n",
    "        # First get hourly traffic data\n",
    "        date_time_hour_to_traffic = {}\n",
    "        hourly_entries, hourly_exits = 0, 0 # some intervals are too short, so they should be combined\n",
    "        total_duration = datetime.timedelta(0)\n",
    "        date_and_hour = False\n",
    "        for date_time, entries, exits, duration in turnstiles_to_date_and_traffic_dic[turnstile]:\n",
    "            total_duration += duration\n",
    "            hourly_entries += entries\n",
    "            hourly_exits += exits\n",
    "\n",
    "            if total_duration < datetime.timedelta(hours=1): # interval is too short, combine with next interval\n",
    "                continue\n",
    "            if not date_and_hour: # when combining intervals, save the start\n",
    "                # datetime stripped of minutes and seconds data\n",
    "                date_and_hour = datetime.datetime(date_time.year, date_time.month, date_time.day, date_time.hour)\n",
    "\n",
    "            duration_in_hours = total_duration.total_seconds()/3600\n",
    "            hourly_entries /= duration_in_hours # if the interval is long enough, divide by duration\n",
    "            hourly_exits /= duration_in_hours\n",
    "            \n",
    "            # Discard hourly traffic values that are too large\n",
    "            if hourly_entries > 2000 or hourly_exits > 2000: # something went wrong\n",
    "                #print turnstile, date_time, hourly_entries, hourly_exits,duration_in_hours\n",
    "                #print total_duration, date_and_hour\n",
    "                hourly_entries, hourly_exits = 0, 0\n",
    "\n",
    "            # add the hourly value to the hours corresponding to the duration\n",
    "            time_diff = datetime.timedelta(hours=0)\n",
    "            while time_diff < datetime.timedelta(hours=int(duration_in_hours)):\n",
    "                if not date_and_hour + time_diff in date_time_hour_to_traffic:\n",
    "                    date_time_hour_to_traffic[date_and_hour + time_diff] = 0, 0\n",
    "                entries, exits = date_time_hour_to_traffic[date_and_hour + time_diff]\n",
    "\n",
    "                date_time_hour_to_traffic[date_and_hour + time_diff] = (entries + hourly_entries, exits + hourly_exits)\n",
    "                time_diff += datetime.timedelta(hours=1)\n",
    "\n",
    "            hourly_entries, hourly_exits = 0, 0\n",
    "            total_duration = datetime.timedelta(0)\n",
    "            date_and_hour = False\n",
    "\n",
    "        # Now convert the dictionary to a list, and sort it by datetime\n",
    "        date_entries_exits_list = []\n",
    "        for date_time, entry_exit in date_time_hour_to_traffic.iteritems():\n",
    "            date_entries_exits_list.append([date_time, entry_exit[0], entry_exit[1]])\n",
    "        date_entries_exits_list = sorted(date_entries_exits_list)\n",
    "\n",
    "        if datetime.timedelta(hours=1) == time_interval: # In this case, we already have hourly values so no need to combine\n",
    "            turnstiles_to_traffic_by_interval[turnstile] = date_entries_exits_list\n",
    "            continue\n",
    "        \n",
    "        # Combine consecutive hours to form required time interval\n",
    "        start_date = date_entries_exits_list[0][0]\n",
    "        date_entries_exits_list_by_interval = []\n",
    "        current_date = datetime.datetime(start_date.year, start_date.month, start_date.day) # start at the start of the first day\n",
    "        current_entries, current_exits = 0,0\n",
    "        for date_time, entry, exit in date_entries_exits_list:\n",
    "            while date_time >= current_date + time_interval:\n",
    "                date_entries_exits_list_by_interval.append([current_date, current_entries, current_exits])\n",
    "                current_entries, current_exits = 0,0\n",
    "                current_date += time_interval\n",
    "            current_entries += entry\n",
    "            current_exits += exit\n",
    "\n",
    "        turnstiles_to_traffic_by_interval[turnstile] = date_entries_exits_list_by_interval\n",
    "\n",
    "    return turnstiles_to_traffic_by_interval"
   ]
  },
  {
   "cell_type": "code",
   "execution_count": 23,
   "metadata": {
    "collapsed": true
   },
   "outputs": [],
   "source": [
    "turnstiles_to_traffic_hourly_dic = turnstiles_to_traffic_by_interval(turnstiles_to_date_and_traffic_dic, datetime.timedelta(hours=1))"
   ]
  },
  {
   "cell_type": "code",
   "execution_count": 25,
   "metadata": {
    "collapsed": true
   },
   "outputs": [],
   "source": [
    "def translate(station, lines):\n",
    "    try:  #the last one is just a typo, the G line doesn't pass at that station\n",
    "        if station == \"34 ST-PENN STA\": return \"123ACE\" # penn station is sometimes written without 123\n",
    "        return {'ACJZ2345': '2345ACJZ', 'ACENQRS1237': '1237ACENQRS','AC1' : '1AC', 'JZ456' : '456JZ', \n",
    "           'BDNQR2345' : '2345BDNQR', 'ABCD1' : '1ABCD', 'R2345' : '2345R', \n",
    "           'LNQR456' : '456LNQR', 'BD4' : '4BD','ACENGRS1237': '1237ACENQRS'}[lines] \n",
    "    except:\n",
    "        return lines\n",
    "\n",
    "# Combines data from different turnstiles into data by station \n",
    "def combine_turnstiles_into_stations(dic):\n",
    "    combined = {}\n",
    "    for key in dic:\n",
    "        combined_key = key[3] + \" - \" + translate(key[3], key[4])\n",
    "        if combined_key in combined:\n",
    "            combined[combined_key] = combined[combined_key] + dic[key]\n",
    "        else:\n",
    "            combined[combined_key] = dic[key]\n",
    "    return combined"
   ]
  },
  {
   "cell_type": "code",
   "execution_count": 26,
   "metadata": {
    "collapsed": true
   },
   "outputs": [],
   "source": [
    "stations_to_traffic_hourly_not_combined = combine_turnstiles_into_stations(turnstiles_to_traffic_hourly_dic)"
   ]
  },
  {
   "cell_type": "code",
   "execution_count": 28,
   "metadata": {
    "collapsed": true
   },
   "outputs": [],
   "source": [
    "def combine_same_time(station_to_traffic):\n",
    "    station_to_traffic_hourly = {}\n",
    "    for station in station_to_traffic:\n",
    "        date_time_hour_to_traffic = {}\n",
    "        for date_time, entries, exits in station_to_traffic[station]:\n",
    "            if not date_time in date_time_hour_to_traffic:\n",
    "                date_time_hour_to_traffic[date_time] = (0,0)\n",
    "            old_entries, old_exits = date_time_hour_to_traffic[date_time]\n",
    "            date_time_hour_to_traffic[date_time] = (old_entries + entries, old_exits + exits)\n",
    "        \n",
    "        # Now convert the dictionary to a list, and sort it by datetime\n",
    "        date_entries_exits_list = []\n",
    "        for date_time, entry_exit in date_time_hour_to_traffic.iteritems():\n",
    "            date_entries_exits_list.append([date_time, entry_exit[0], entry_exit[1]])\n",
    "\n",
    "        date_entries_exits_list = sorted(date_entries_exits_list)\n",
    "\n",
    "        station_to_traffic_hourly[station] = date_entries_exits_list\n",
    "    return station_to_traffic_hourly"
   ]
  },
  {
   "cell_type": "code",
   "execution_count": 29,
   "metadata": {
    "collapsed": true
   },
   "outputs": [],
   "source": [
    "station_to_traffic_hourly = combine_same_time(stations_to_traffic_hourly_not_combined)"
   ]
  },
  {
   "cell_type": "code",
   "execution_count": 34,
   "metadata": {
    "collapsed": false
   },
   "outputs": [],
   "source": [
    "turnstiles_to_traffic_daily_dic = turnstiles_to_traffic_by_interval(turnstiles_to_date_and_traffic_dic, datetime.timedelta(hours=24))\n",
    "stations_to_traffic_daily_not_combined = combine_turnstiles_into_stations(turnstiles_to_traffic_daily_dic)\n",
    "station_to_traffic_daily = combine_same_time(stations_to_traffic_daily_not_combined)"
   ]
  },
  {
   "cell_type": "markdown",
   "metadata": {},
   "source": [
    "## After all those computations, we finally reach our goal!\n",
    "\n",
    "For each station, number of entries, exits, per day!!\n",
    "\n",
    "Days: \n",
    "\n",
    "    1: April 8th 2017\n",
    "    2: April 9th 2017\n",
    "    3: April 10th 2017\n",
    "    4: April 11th 2017\n",
    "    5: April 12th 2017\n",
    "    6: April 13th 2017"
   ]
  },
  {
   "cell_type": "code",
   "execution_count": 58,
   "metadata": {
    "collapsed": false
   },
   "outputs": [],
   "source": [
    "for key in station_to_traffic_daily.keys():\n",
    "    traffic = []\n",
    "    for tup in station_to_traffic_daily[key]:\n",
    "        traffic.append(tup[1]+tup[2])\n",
    "    station_to_traffic_daily[key] = traffic"
   ]
  },
  {
   "cell_type": "code",
   "execution_count": 66,
   "metadata": {
    "collapsed": false
   },
   "outputs": [],
   "source": [
    "for key in station_to_traffic_daily.keys():\n",
    "    new_key = key.split(' - ')[0]\n",
    "    station_to_traffic_daily[new_key] = station_to_traffic_daily[key]\n",
    "    del station_to_traffic_daily[key]"
   ]
  },
  {
   "cell_type": "code",
   "execution_count": 80,
   "metadata": {
    "collapsed": false
   },
   "outputs": [],
   "source": [
    "data = pd.DataFrame(station_to_traffic_daily.keys(), columns=['Name'])"
   ]
  },
  {
   "cell_type": "code",
   "execution_count": 91,
   "metadata": {
    "collapsed": false
   },
   "outputs": [],
   "source": [
    "data['traffic_april8'] = data['Name'].apply(lambda x: station_to_traffic_daily[x][0])\n",
    "data['traffic_april9'] = data['Name'].apply(lambda x: station_to_traffic_daily[x][1])\n",
    "data['traffic_april10'] = data['Name'].apply(lambda x: station_to_traffic_daily[x][2])\n",
    "data['traffic_april11'] = data['Name'].apply(lambda x: station_to_traffic_daily[x][3])\n",
    "data['traffic_april12'] = data['Name'].apply(lambda x: station_to_traffic_daily[x][4])\n",
    "data['traffic_april13'] = data['Name'].apply(lambda x: station_to_traffic_daily[x][-1])"
   ]
  },
  {
   "cell_type": "code",
   "execution_count": 95,
   "metadata": {
    "collapsed": false
   },
   "outputs": [],
   "source": [
    "data.to_csv('../data/station_traffic.csv', index=False)"
   ]
  }
 ],
 "metadata": {
  "anaconda-cloud": {},
  "kernelspec": {
   "display_name": "Python [Root]",
   "language": "python",
   "name": "Python [Root]"
  },
  "language_info": {
   "codemirror_mode": {
    "name": "ipython",
    "version": 2
   },
   "file_extension": ".py",
   "mimetype": "text/x-python",
   "name": "python",
   "nbconvert_exporter": "python",
   "pygments_lexer": "ipython2",
   "version": "2.7.12"
  }
 },
 "nbformat": 4,
 "nbformat_minor": 0
}
