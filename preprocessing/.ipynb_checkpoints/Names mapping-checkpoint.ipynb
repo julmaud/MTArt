{
 "cells": [
  {
   "cell_type": "markdown",
   "metadata": {},
   "source": [
    "## Station Names Mapping"
   ]
  },
  {
   "cell_type": "code",
   "execution_count": null,
   "metadata": {
    "collapsed": true
   },
   "outputs": [],
   "source": [
    "import pandas as pd\n",
    "import numpy as np\n",
    "import matplotlib.pyplot as plt\n",
    "import matplotlib\n",
    "from sklearn.preprocessing import StandardScaler\n",
    "import math\n",
    "import operator\n",
    "from geopy.distance import vincenty\n",
    "import distance\n",
    "%matplotlib inline"
   ]
  },
  {
   "cell_type": "code",
   "execution_count": null,
   "metadata": {
    "collapsed": true
   },
   "outputs": [],
   "source": [
    "bad_names = sta_traffic['Name'].apply(lambda x:str.lower(x))\n",
    "good_names = sta['Name'].apply(lambda x:str.lower(x))\n",
    "map_sta_names = {nam:{'bad_name':'','dist':99} for nam in good_names}\n",
    "\n",
    "for good_name in map_sta_names.keys():\n",
    "    for k in range(len(bad_names)):\n",
    "        if int(distance.levenshtein(good_name, bad_names[k])) < map_sta_names[good_name]['dist']:\n",
    "            map_sta_names[good_name]['dist'] = distance.levenshtein(good_name, bad_names[k])\n",
    "            map_sta_names[good_name]['bad_name'] = bad_names[k]   \n",
    "\n",
    "second_check = []\n",
    "for good_name in map_sta_names.keys():\n",
    "    if map_sta_names[good_name]['dist'] > 2:\n",
    "        second_check.append((good_name, map_sta_names[good_name]['bad_name']))\n",
    "\n",
    "not_matched = set(tup[0] for tup in second_check)\n",
    "\n",
    "second_check_copy = [el for el in second_check]\n",
    "for tup in second_check_copy:\n",
    "    print(tup)\n",
    "    testo = input('Is it a good matching?')\n",
    "    if testo == 1:\n",
    "        second_check.remove(tup)\n",
    "    else:\n",
    "        continue\n",
    "\n",
    "map_sta_names_sure = {}\n",
    "for good_name, dic in map_sta_names.iteritems():\n",
    "    if good_name not in not_matched:\n",
    "        map_sta_names_sure[good_name]=dic['bad_name']\n",
    "\n",
    "import json\n",
    "with open('map_sofar.json', 'w') as f:\n",
    "    json.dump(map_sta_names_sure, f)\n",
    "\n",
    "#Remove 'rd', 'th', 'st', '-', 'av', 'street', 'sq'\n",
    "def stemit(sta_name):\n",
    "    stem = sta_name.replace('rd', '').replace('th', '').replace('st','').replace('-', ' ').replace('av', '').replace('street', '').replace('sq', '')\n",
    "    return stem\n",
    "\n",
    "top_candidates = {tup[0]:{'bad_names':['','',''],'distz':[99,99,99]} for tup in second_check}\n",
    "\n",
    "for good_name in top_candidates.keys():\n",
    "    good_name_stem=stemit(good_name)\n",
    "    for k in range(len(bad_names)):\n",
    "        bad_name_stem=stemit(bad_names[k])\n",
    "        if int(distance.levenshtein(good_name_stem, bad_name_stem)) < max(top_candidates[good_name]['distz']):\n",
    "            idx = np.argmax(top_candidates[good_name]['distz'])\n",
    "            top_candidates[good_name]['distz'][idx] = distance.levenshtein(good_name, bad_names[k])\n",
    "            top_candidates[good_name]['bad_names'][idx] = bad_names[k]  \n",
    "\n",
    "goods_to_remove = []\n",
    "second_check_copy = [el for el in second_check]\n",
    "for (good_name,bad_assigned) in second_check_copy:\n",
    "    print(good_name)\n",
    "    print(top_candidates[good_name]['bad_names'])\n",
    "    bad_nam = raw_input(\"Which one?\")\n",
    "          \n",
    "    if bad_nam != 'out':\n",
    "          map_sta_names[good_name]['bad_name'] = bad_nam\n",
    "          second_check.remove((good_name,bad_assigned))\n",
    "    else: \n",
    "          goods_to_remove.append(good_name)\n",
    "\n",
    "map_sta_names_sure = {}\n",
    "for good_name, dic in map_sta_names.iteritems():\n",
    "    if good_name not in goods_to_remove:\n",
    "        map_sta_names_sure[good_name]=dic['bad_name']\n",
    "        \n",
    "import json\n",
    "with open('map_sofar_fin.json', 'w') as f:\n",
    "    json.dump(map_sta_names_sure, f)\n",
    "    "
   ]
  }
 ],
 "metadata": {
  "anaconda-cloud": {},
  "kernelspec": {
   "display_name": "Python [Root]",
   "language": "python",
   "name": "Python [Root]"
  },
  "language_info": {
   "codemirror_mode": {
    "name": "ipython",
    "version": 2
   },
   "file_extension": ".py",
   "mimetype": "text/x-python",
   "name": "python",
   "nbconvert_exporter": "python",
   "pygments_lexer": "ipython2",
   "version": "2.7.12"
  }
 },
 "nbformat": 4,
 "nbformat_minor": 0
}
